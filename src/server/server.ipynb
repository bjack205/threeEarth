{
 "cells": [
  {
   "cell_type": "code",
   "execution_count": 1,
   "metadata": {},
   "outputs": [],
   "source": [
    "%load_ext autoreload\n",
    "%autoreload 2"
   ]
  },
  {
   "cell_type": "code",
   "execution_count": 2,
   "metadata": {},
   "outputs": [],
   "source": [
    "import logging\n",
    "logging.basicConfig(level=logging.INFO)\n",
    "\n",
    "from threepy.server import WebsocketServer\n",
    "from threepy.geometry import *\n",
    "from threepy.materials import *\n",
    "from threepy.objects import *\n",
    "from threepy.visualizer import Visualizer\n",
    "import time"
   ]
  },
  {
   "cell_type": "code",
   "execution_count": null,
   "metadata": {},
   "outputs": [
    {
     "name": "stderr",
     "output_type": "stream",
     "text": [
      "INFO:websockets.server:server listening on 0.0.0.0:8001\n",
      "INFO:websockets.server:server listening on [::]:8001\n"
     ]
    },
    {
     "name": "stderr",
     "output_type": "stream",
     "text": [
      "INFO:websockets.server:connection open\n",
      "INFO:root:New Websocket added. Adding to list of connections\n",
      "INFO:root:Received message: {\"type\":\"init\",\"client\":\"visualizer\"}\n",
      "INFO:root:Connection Closed. Popping from list of connections\n",
      "INFO:websockets.server:connection open\n",
      "INFO:root:New Websocket added. Adding to list of connections\n",
      "INFO:root:Received message: {\"type\":\"init\",\"client\":\"visualizer\"}\n",
      "INFO:root:Connection Closed. Popping from list of connections\n",
      "INFO:websockets.server:connection open\n",
      "INFO:root:New Websocket added. Adding to list of connections\n",
      "INFO:root:Received message: {\"type\":\"init\",\"client\":\"visualizer\"}\n",
      "INFO:root:Connection Closed. Popping from list of connections\n",
      "INFO:websockets.server:connection open\n",
      "INFO:root:New Websocket added. Adding to list of connections\n",
      "INFO:root:Received message: {\"type\":\"init\",\"client\":\"visualizer\"}\n",
      "INFO:root:Connection Closed. Popping from list of connections\n",
      "INFO:websockets.server:connection open\n",
      "INFO:root:New Websocket added. Adding to list of connections\n",
      "INFO:root:Received message: {\"type\":\"init\",\"client\":\"visualizer\"}\n",
      "INFO:websockets.server:connection open\n",
      "INFO:root:New Websocket added. Adding to list of connections\n",
      "INFO:root:Received message: {\"type\":\"init\",\"client\":\"visualizer\"}\n",
      "INFO:root:Connection Closed. Popping from list of connections\n",
      "INFO:root:Connection Closed. Popping from list of connections\n",
      "INFO:websockets.server:connection open\n",
      "INFO:root:New Websocket added. Adding to list of connections\n",
      "INFO:root:Received message: {\"type\":\"init\",\"client\":\"visualizer\"}\n",
      "INFO:root:Connection Closed. Popping from list of connections\n",
      "INFO:websockets.server:connection open\n",
      "INFO:root:New Websocket added. Adding to list of connections\n",
      "INFO:root:Received message: {\"type\":\"init\",\"client\":\"visualizer\"}\n",
      "INFO:root:Connection Closed. Popping from list of connections\n",
      "INFO:websockets.server:connection open\n",
      "INFO:root:New Websocket added. Adding to list of connections\n",
      "INFO:root:Received message: {\"type\":\"init\",\"client\":\"visualizer\"}\n",
      "INFO:root:Connection Closed. Popping from list of connections\n",
      "INFO:websockets.server:connection open\n",
      "INFO:root:New Websocket added. Adding to list of connections\n",
      "INFO:root:Received message: {\"type\":\"init\",\"client\":\"visualizer\"}\n",
      "INFO:root:Connection Closed. Popping from list of connections\n",
      "INFO:websockets.server:connection open\n",
      "INFO:root:New Websocket added. Adding to list of connections\n",
      "INFO:root:Received message: {\"type\":\"init\",\"client\":\"visualizer\"}\n",
      "INFO:root:Connection Closed. Popping from list of connections\n",
      "INFO:websockets.server:connection open\n",
      "INFO:root:New Websocket added. Adding to list of connections\n",
      "INFO:root:Received message: {\"type\":\"init\",\"client\":\"visualizer\"}\n",
      "INFO:root:Connection Closed. Popping from list of connections\n",
      "INFO:websockets.server:connection open\n",
      "INFO:root:New Websocket added. Adding to list of connections\n",
      "INFO:root:Received message: {\"type\":\"init\",\"client\":\"visualizer\"}\n",
      "INFO:root:Connection Closed. Popping from list of connections\n",
      "INFO:websockets.server:connection open\n",
      "INFO:root:New Websocket added. Adding to list of connections\n",
      "INFO:root:Received message: {\"type\":\"init\",\"client\":\"visualizer\"}\n",
      "INFO:root:Connection Closed. Popping from list of connections\n",
      "INFO:websockets.server:connection open\n",
      "INFO:root:New Websocket added. Adding to list of connections\n",
      "INFO:root:Received message: {\"type\":\"init\",\"client\":\"visualizer\"}\n",
      "INFO:root:Connection Closed. Popping from list of connections\n",
      "INFO:websockets.server:connection open\n",
      "INFO:root:New Websocket added. Adding to list of connections\n",
      "INFO:root:Received message: {\"type\":\"init\",\"client\":\"visualizer\"}\n",
      "INFO:root:Connection Closed. Popping from list of connections\n",
      "INFO:websockets.server:connection open\n",
      "INFO:root:New Websocket added. Adding to list of connections\n",
      "INFO:root:Received message: {\"type\":\"init\",\"client\":\"visualizer\"}\n",
      "INFO:root:Connection Closed. Popping from list of connections\n",
      "INFO:websockets.server:connection open\n",
      "INFO:root:New Websocket added. Adding to list of connections\n",
      "INFO:root:Received message: {\"type\":\"init\",\"client\":\"visualizer\"}\n",
      "INFO:root:Connection Closed. Popping from list of connections\n",
      "INFO:websockets.server:connection open\n",
      "INFO:root:New Websocket added. Adding to list of connections\n",
      "INFO:root:Received message: {\"type\":\"init\",\"client\":\"visualizer\"}\n",
      "INFO:root:Connection Closed. Popping from list of connections\n",
      "INFO:websockets.server:connection open\n",
      "INFO:root:New Websocket added. Adding to list of connections\n",
      "INFO:root:Received message: {\"type\":\"init\",\"client\":\"visualizer\"}\n",
      "INFO:root:Connection Closed. Popping from list of connections\n",
      "INFO:websockets.server:connection open\n",
      "INFO:root:New Websocket added. Adding to list of connections\n",
      "INFO:root:Received message: {\"type\":\"init\",\"client\":\"visualizer\"}\n",
      "INFO:root:Connection Closed. Popping from list of connections\n",
      "INFO:websockets.server:connection open\n",
      "INFO:root:New Websocket added. Adding to list of connections\n",
      "INFO:root:Received message: {\"type\":\"init\",\"client\":\"visualizer\"}\n",
      "INFO:root:Connection Closed. Popping from list of connections\n",
      "INFO:websockets.server:connection open\n",
      "INFO:root:New Websocket added. Adding to list of connections\n",
      "INFO:root:Received message: {\"type\":\"init\",\"client\":\"visualizer\"}\n",
      "INFO:root:Connection Closed. Popping from list of connections\n",
      "INFO:websockets.server:connection open\n",
      "INFO:root:New Websocket added. Adding to list of connections\n",
      "INFO:root:Received message: {\"type\":\"init\",\"client\":\"visualizer\"}\n",
      "INFO:root:Connection Closed. Popping from list of connections\n",
      "INFO:websockets.server:connection open\n",
      "INFO:root:New Websocket added. Adding to list of connections\n",
      "INFO:root:Received message: {\"type\":\"init\",\"client\":\"visualizer\"}\n",
      "INFO:root:Connection Closed. Popping from list of connections\n",
      "INFO:websockets.server:connection open\n",
      "INFO:root:New Websocket added. Adding to list of connections\n",
      "INFO:root:Received message: {\"type\":\"init\",\"client\":\"visualizer\"}\n",
      "INFO:root:Connection Closed. Popping from list of connections\n",
      "INFO:websockets.server:connection open\n",
      "INFO:root:New Websocket added. Adding to list of connections\n",
      "INFO:root:Received message: {\"type\":\"init\",\"client\":\"visualizer\"}\n",
      "INFO:root:Connection Closed. Popping from list of connections\n",
      "INFO:websockets.server:connection open\n",
      "INFO:root:New Websocket added. Adding to list of connections\n",
      "INFO:root:Received message: {\"type\":\"init\",\"client\":\"visualizer\"}\n",
      "INFO:root:Connection Closed. Popping from list of connections\n",
      "INFO:websockets.server:connection open\n",
      "INFO:root:New Websocket added. Adding to list of connections\n",
      "INFO:root:Received message: {\"type\":\"init\",\"client\":\"visualizer\"}\n",
      "INFO:root:Connection Closed. Popping from list of connections\n",
      "INFO:websockets.server:connection open\n",
      "INFO:root:New Websocket added. Adding to list of connections\n",
      "INFO:root:Received message: {\"type\":\"init\",\"client\":\"visualizer\"}\n",
      "INFO:root:Connection Closed. Popping from list of connections\n",
      "INFO:websockets.server:connection open\n",
      "INFO:root:New Websocket added. Adding to list of connections\n",
      "INFO:root:Received message: {\"type\":\"init\",\"client\":\"visualizer\"}\n",
      "INFO:root:Connection Closed. Popping from list of connections\n",
      "INFO:websockets.server:connection open\n",
      "INFO:root:New Websocket added. Adding to list of connections\n",
      "INFO:root:Received message: {\"type\":\"init\",\"client\":\"visualizer\"}\n",
      "INFO:root:Connection Closed. Popping from list of connections\n",
      "INFO:websockets.server:connection open\n",
      "INFO:root:New Websocket added. Adding to list of connections\n",
      "INFO:root:Received message: {\"type\":\"init\",\"client\":\"visualizer\"}\n",
      "INFO:root:Connection Closed. Popping from list of connections\n",
      "INFO:websockets.server:connection open\n",
      "INFO:root:New Websocket added. Adding to list of connections\n",
      "INFO:root:Received message: {\"type\":\"init\",\"client\":\"visualizer\"}\n",
      "INFO:root:Connection Closed. Popping from list of connections\n",
      "INFO:websockets.server:connection open\n",
      "INFO:root:New Websocket added. Adding to list of connections\n",
      "INFO:root:Received message: {\"type\":\"init\",\"client\":\"visualizer\"}\n",
      "INFO:root:Connection Closed. Popping from list of connections\n",
      "INFO:websockets.server:connection open\n",
      "INFO:root:New Websocket added. Adding to list of connections\n",
      "INFO:root:Received message: {\"type\":\"init\",\"client\":\"visualizer\"}\n",
      "INFO:root:Connection Closed. Popping from list of connections\n",
      "INFO:websockets.server:connection open\n",
      "INFO:root:New Websocket added. Adding to list of connections\n",
      "INFO:root:Received message: {\"type\":\"init\",\"client\":\"visualizer\"}\n",
      "INFO:root:Connection Closed. Popping from list of connections\n",
      "INFO:websockets.server:connection open\n",
      "INFO:root:New Websocket added. Adding to list of connections\n",
      "INFO:root:Received message: {\"type\":\"init\",\"client\":\"visualizer\"}\n",
      "INFO:root:Connection Closed. Popping from list of connections\n",
      "INFO:websockets.server:connection open\n",
      "INFO:root:New Websocket added. Adding to list of connections\n",
      "INFO:root:Received message: {\"type\":\"init\",\"client\":\"visualizer\"}\n",
      "INFO:root:Connection Closed. Popping from list of connections\n",
      "INFO:websockets.server:connection open\n",
      "INFO:root:New Websocket added. Adding to list of connections\n",
      "INFO:root:Received message: {\"type\":\"init\",\"client\":\"visualizer\"}\n",
      "INFO:root:Connection Closed. Popping from list of connections\n",
      "INFO:websockets.server:connection open\n",
      "INFO:root:New Websocket added. Adding to list of connections\n",
      "INFO:root:Received message: {\"type\":\"init\",\"client\":\"visualizer\"}\n",
      "INFO:root:Connection Closed. Popping from list of connections\n",
      "INFO:websockets.server:connection open\n",
      "INFO:root:New Websocket added. Adding to list of connections\n",
      "INFO:root:Received message: {\"type\":\"init\",\"client\":\"visualizer\"}\n",
      "INFO:root:Connection Closed. Popping from list of connections\n",
      "INFO:websockets.server:connection open\n",
      "INFO:root:New Websocket added. Adding to list of connections\n",
      "INFO:root:Received message: {\"type\":\"init\",\"client\":\"visualizer\"}\n",
      "INFO:root:Connection Closed. Popping from list of connections\n",
      "INFO:websockets.server:connection open\n",
      "INFO:root:New Websocket added. Adding to list of connections\n",
      "INFO:root:Received message: {\"type\":\"init\",\"client\":\"visualizer\"}\n",
      "INFO:root:Connection Closed. Popping from list of connections\n",
      "INFO:websockets.server:connection open\n",
      "INFO:root:New Websocket added. Adding to list of connections\n",
      "INFO:root:Received message: {\"type\":\"init\",\"client\":\"visualizer\"}\n",
      "INFO:root:Connection Closed. Popping from list of connections\n",
      "INFO:websockets.server:connection open\n",
      "INFO:root:New Websocket added. Adding to list of connections\n",
      "INFO:root:Received message: {\"type\":\"init\",\"client\":\"visualizer\"}\n",
      "INFO:root:Connection Closed. Popping from list of connections\n",
      "INFO:websockets.server:connection open\n",
      "INFO:root:New Websocket added. Adding to list of connections\n",
      "INFO:root:Received message: {\"type\":\"init\",\"client\":\"visualizer\"}\n"
     ]
    }
   ],
   "source": [
    "vis = Visualizer()"
   ]
  },
  {
   "cell_type": "code",
   "execution_count": 4,
   "metadata": {},
   "outputs": [
    {
     "data": {
      "text/plain": [
       "True"
      ]
     },
     "execution_count": 4,
     "metadata": {},
     "output_type": "execute_result"
    }
   ],
   "source": [
    "vis.server.is_running"
   ]
  },
  {
   "cell_type": "code",
   "execution_count": 5,
   "metadata": {},
   "outputs": [],
   "source": [
    "await vis.set_props(\"box\", {\"position\": [0, 1, 1]})"
   ]
  },
  {
   "cell_type": "code",
   "execution_count": 6,
   "metadata": {},
   "outputs": [],
   "source": [
    "# Move the box in a circle\n",
    "import numpy as np\n",
    "import time\n",
    "t = np.linspace(0, 2*np.pi, 301)\n",
    "for i in range(len(t)):\n",
    "    await vis.set_props(\"box\", {\"position\": [np.cos(t[i]), np.sin(t[i]), 1]})\n",
    "    time.sleep(0.002)"
   ]
  },
  {
   "cell_type": "code",
   "execution_count": 7,
   "metadata": {},
   "outputs": [],
   "source": [
    "# Add material\n",
    "mat = MeshLambertMaterial(color=0x0000ff, name=\"mat_blue\")\n",
    "await vis.add_material(mat)"
   ]
  },
  {
   "cell_type": "code",
   "execution_count": 8,
   "metadata": {},
   "outputs": [],
   "source": [
    "# Add a sphere geometry\n",
    "sphere = SphereGeometry(radius=0.5, name=\"sphere\")\n",
    "await vis.add_geometry(sphere)"
   ]
  },
  {
   "cell_type": "code",
   "execution_count": 9,
   "metadata": {},
   "outputs": [],
   "source": [
    "# Add mesh\n",
    "blue_sphere = SimpleMeshRef(geometry_name=sphere.name, material_name=mat.name, name=\"blue_sphere\")\n",
    "await vis.add_object(blue_sphere)"
   ]
  },
  {
   "cell_type": "code",
   "execution_count": 36,
   "metadata": {},
   "outputs": [],
   "source": [
    "# Add mesh to scene and move\n",
    "await vis.add_child(\"scene\", \"blue_sphere\")\n",
    "await vis.set_props(\"blue_sphere\", {\"position\": [0, 0, 1]})"
   ]
  },
  {
   "cell_type": "code",
   "execution_count": 52,
   "metadata": {},
   "outputs": [],
   "source": [
    "# Add cone with new geometry and material\n",
    "green_cone = SimpleMesh(geometry=ConeGeometry(), material=MeshLambertMaterial(color=0x00ff00), name=\"green_cone\")\n",
    "await vis.add_object(green_cone, parent_name=\"scene\")"
   ]
  },
  {
   "cell_type": "code",
   "execution_count": 70,
   "metadata": {},
   "outputs": [],
   "source": [
    "import numpy as np\n",
    "t = np.linspace(0, 2*np.pi, 31)\n",
    "pos = np.zeros((len(t), 3))\n",
    "pos[:, 0] = np.cos(t)\n",
    "pos[:, 1] = np.sin(t)\n",
    "pos[:, 2] = 1.0 + t / (2*np.pi) * 4"
   ]
  },
  {
   "cell_type": "code",
   "execution_count": 73,
   "metadata": {},
   "outputs": [],
   "source": [
    "from threepy.animations import *\n",
    "cone_kf = KeyframeTrack(\"green_cone.position[y]\", [0, 1], [0.0, 10.0], Interpolation.InterpolateSmooth)\n",
    "box_kf = KeyframeTrack(\"box.position\", list(t / (2 * np.pi) * 3), list(pos.flatten()), Interpolation.InterpolateSmooth, value_type='vector')\n",
    "clip = AnimationClip(\"animation_cone\", -1, [cone_kf, box_kf])\n",
    "await vis.add_animation(clip)"
   ]
  },
  {
   "cell_type": "code",
   "execution_count": 74,
   "metadata": {},
   "outputs": [],
   "source": [
    "await vis.load_animation(clip.name)"
   ]
  },
  {
   "cell_type": "code",
   "execution_count": 21,
   "metadata": {},
   "outputs": [
    {
     "data": {
      "text/plain": [
       "{'uuid': '15ba63be-1531-491f-9828-66784ac2a024',\n",
       " 'name': 'cone',\n",
       " 'duration': -1,\n",
       " 'blendMode': 2500,\n",
       " 'tracks': [{'name': 'green_cone.position[x]',\n",
       "   'type': 'number',\n",
       "   'times': [0, 1],\n",
       "   'values': [0.0, 10.0],\n",
       "   'interpolation': 2302}]}"
      ]
     },
     "execution_count": 21,
     "metadata": {},
     "output_type": "execute_result"
    }
   ],
   "source": [
    "clip.lower()"
   ]
  },
  {
   "cell_type": "code",
   "execution_count": 8,
   "metadata": {},
   "outputs": [],
   "source": [
    "vis.server.stop()"
   ]
  },
  {
   "cell_type": "code",
   "execution_count": null,
   "metadata": {},
   "outputs": [],
   "source": []
  }
 ],
 "metadata": {
  "kernelspec": {
   "display_name": ".venv",
   "language": "python",
   "name": "python3"
  },
  "language_info": {
   "codemirror_mode": {
    "name": "ipython",
    "version": 3
   },
   "file_extension": ".py",
   "mimetype": "text/x-python",
   "name": "python",
   "nbconvert_exporter": "python",
   "pygments_lexer": "ipython3",
   "version": "3.13.0"
  }
 },
 "nbformat": 4,
 "nbformat_minor": 2
}
