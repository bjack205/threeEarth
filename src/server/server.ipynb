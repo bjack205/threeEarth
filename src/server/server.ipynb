{
 "cells": [
  {
   "cell_type": "code",
   "execution_count": 1,
   "metadata": {},
   "outputs": [],
   "source": [
    "%load_ext autoreload\n",
    "%autoreload 2"
   ]
  },
  {
   "cell_type": "markdown",
   "metadata": {},
   "source": [
    "# Set up Visualizer\n",
    "\n",
    "Right now the visualizer needs to be launched independently of the Python code. The visualizer is a web app that runs in your browser, and is built with vite, a modern JavaScript build tool. The python code will communicate with the visualizer through a websocket connection.\n",
    "\n",
    "To launch the visualizer, you will need to have node.js installed. \n",
    "\n",
    "With node.js installed, you can install the dependencies for the visualizer by running the following command in the terminal:\n",
    "\n",
    "```bash\n",
    "npm install\n",
    "```\n",
    "\n",
    "Then you can launch the (development version) visualizer with the following command:\n",
    "\n",
    "```bash\n",
    "npm run dev\n",
    "```\n",
    "\n",
    "A browser window should open automatically and you should see the visualizer.\n",
    "\n",
    "TIP: If you are using Google Chrome, you can open the developer tools (F12) and go to the \"Console\" tab to see debug output from the visualizer."
   ]
  },
  {
   "cell_type": "code",
   "execution_count": 2,
   "metadata": {},
   "outputs": [],
   "source": [
    "import logging\n",
    "logging.basicConfig(level=logging.INFO)\n",
    "\n",
    "from threepy.server import WebsocketServer\n",
    "from threepy.geometry import *\n",
    "from threepy.materials import *\n",
    "from threepy.objects import *\n",
    "from threepy.visualizer import Visualizer\n",
    "import numpy as np\n",
    "import time"
   ]
  },
  {
   "cell_type": "code",
   "execution_count": null,
   "metadata": {},
   "outputs": [
    {
     "name": "stderr",
     "output_type": "stream",
     "text": [
      "INFO:websockets.server:server listening on [::]:8001\n",
      "INFO:websockets.server:server listening on 0.0.0.0:8001\n"
     ]
    },
    {
     "name": "stderr",
     "output_type": "stream",
     "text": [
      "INFO:websockets.server:connection open\n",
      "INFO:root:New Websocket added. Adding to list of connections\n",
      "INFO:root:Received message: {\"type\":\"init\",\"client\":\"visualizer\"}\n"
     ]
    }
   ],
   "source": [
    "vis = Visualizer()"
   ]
  },
  {
   "cell_type": "code",
   "execution_count": 4,
   "metadata": {},
   "outputs": [
    {
     "data": {
      "text/plain": [
       "True"
      ]
     },
     "execution_count": 4,
     "metadata": {},
     "output_type": "execute_result"
    }
   ],
   "source": [
    "vis.server.is_running"
   ]
  },
  {
   "cell_type": "markdown",
   "metadata": {},
   "source": [
    "# Adding the satellite"
   ]
  },
  {
   "cell_type": "code",
   "execution_count": 127,
   "metadata": {},
   "outputs": [],
   "source": [
    "EARTH_RADIUS = 6371\n",
    "altitude = 400\n",
    "satellite = GLTF(name=\"satellite\", path='albedo-sat-simple.glb')\n",
    "await vis.add_object(satellite)"
   ]
  },
  {
   "cell_type": "code",
   "execution_count": 128,
   "metadata": {},
   "outputs": [],
   "source": [
    "# Add the satellite to the scene\n",
    "await vis.add_child('scene', 'satellite')"
   ]
  },
  {
   "cell_type": "code",
   "execution_count": 129,
   "metadata": {},
   "outputs": [],
   "source": [
    "# Set the satellite position\n",
    "pos_ECI = np.array([EARTH_RADIUS + altitude, 0, 0.0])\n",
    "await vis.set_props('satellite', {'position': list(pos_ECI), 'scale': [1e-1 for i in range(3)]})"
   ]
  },
  {
   "cell_type": "code",
   "execution_count": 130,
   "metadata": {},
   "outputs": [],
   "source": [
    "# await vis.set_props('camera', {'near': 1e-3})"
   ]
  },
  {
   "cell_type": "code",
   "execution_count": 6,
   "metadata": {},
   "outputs": [],
   "source": [
    "# Set the sun direction\n",
    "await vis.set_props('directionalLight', {'position': [0, 10000, 0]})"
   ]
  },
  {
   "cell_type": "code",
   "execution_count": 136,
   "metadata": {},
   "outputs": [],
   "source": [
    "# Set the camera position\n",
    "await vis.camera_controls(position=list(pos_ECI + np.array([0.5, 0, 0])), target=list(pos_ECI))"
   ]
  },
  {
   "cell_type": "markdown",
   "metadata": {},
   "source": [
    "# Animations"
   ]
  },
  {
   "cell_type": "code",
   "execution_count": 144,
   "metadata": {},
   "outputs": [],
   "source": [
    "from threepy.animations import *\n",
    "# pos_kf = KeyframeTrack(\"satellite.position[y]\", [0, 1, 2], [0.0, 10.0, 0.0], Interpolation.InterpolateSmooth)\n",
    "t = np.linspace(0, 2 * np.pi, 31)\n",
    "pos = np.zeros((len(t), 3))\n",
    "pos[:, 0] = np.cos(t) * 1.0\n",
    "pos[:, 1] = np.sin(t) * 500.0\n",
    "pos = pos + pos_ECI\n",
    "pos_kf = KeyframeTrack(\"satellite.position\", list(t / (2 * np.pi) * 3), list(pos.flatten()), Interpolation.InterpolateSmooth, value_type='vector')\n",
    "camera_pos_kf = KeyframeTrack(\"camera.position\", list(t / (2 * np.pi) * 3), list((pos + np.array([0.5, 0, 0])).flatten()), Interpolation.InterpolateSmooth, value_type='vector')\n",
    "clip = AnimationClip(\"satellite_clip\", -1, [pos_kf, camera_pos_kf])\n",
    "await vis.add_animation(clip)"
   ]
  },
  {
   "cell_type": "code",
   "execution_count": 145,
   "metadata": {},
   "outputs": [],
   "source": [
    "await vis.load_animation(clip.name)"
   ]
  },
  {
   "cell_type": "markdown",
   "metadata": {},
   "source": [
    "# Debugging"
   ]
  },
  {
   "cell_type": "code",
   "execution_count": 93,
   "metadata": {},
   "outputs": [],
   "source": [
    "await vis.add_child('satellite', 'satellite_camera')"
   ]
  },
  {
   "cell_type": "code",
   "execution_count": 94,
   "metadata": {},
   "outputs": [],
   "source": [
    "# Move the box in a circle\n",
    "import numpy as np\n",
    "import time\n",
    "t = np.linspace(0, 2*np.pi, 301)\n",
    "for i in range(len(t)):\n",
    "    await vis.set_props(\"box\", {\"position\": [np.cos(t[i]), np.sin(t[i]), 1]})\n",
    "    time.sleep(0.002)"
   ]
  },
  {
   "cell_type": "code",
   "execution_count": 7,
   "metadata": {},
   "outputs": [],
   "source": [
    "# Add material\n",
    "mat = MeshLambertMaterial(color=0x0000ff, name=\"mat_blue\")\n",
    "await vis.add_material(mat)"
   ]
  },
  {
   "cell_type": "code",
   "execution_count": 8,
   "metadata": {},
   "outputs": [],
   "source": [
    "# Add a sphere geometry\n",
    "sphere = SphereGeometry(radius=0.5, name=\"sphere\")\n",
    "await vis.add_geometry(sphere)"
   ]
  },
  {
   "cell_type": "code",
   "execution_count": 9,
   "metadata": {},
   "outputs": [],
   "source": [
    "# Add mesh\n",
    "blue_sphere = SimpleMeshRef(geometry_name=sphere.name, material_name=mat.name, name=\"blue_sphere\")\n",
    "await vis.add_object(blue_sphere)"
   ]
  },
  {
   "cell_type": "code",
   "execution_count": 36,
   "metadata": {},
   "outputs": [],
   "source": [
    "# Add mesh to scene and move\n",
    "await vis.add_child(\"scene\", \"blue_sphere\")\n",
    "await vis.set_props(\"blue_sphere\", {\"position\": [0, 0, 1]})"
   ]
  },
  {
   "cell_type": "code",
   "execution_count": 52,
   "metadata": {},
   "outputs": [],
   "source": [
    "# Add cone with new geometry and material\n",
    "green_cone = SimpleMesh(geometry=ConeGeometry(), material=MeshLambertMaterial(color=0x00ff00), name=\"green_cone\")\n",
    "await vis.add_object(green_cone, parent_name=\"scene\")"
   ]
  },
  {
   "cell_type": "code",
   "execution_count": 70,
   "metadata": {},
   "outputs": [],
   "source": [
    "import numpy as np\n",
    "t = np.linspace(0, 2*np.pi, 31)\n",
    "pos = np.zeros((len(t), 3))\n",
    "pos[:, 0] = np.cos(t)\n",
    "pos[:, 1] = np.sin(t)\n",
    "pos[:, 2] = 1.0 + t / (2*np.pi) * 4"
   ]
  },
  {
   "cell_type": "code",
   "execution_count": 73,
   "metadata": {},
   "outputs": [],
   "source": [
    "from threepy.animations import *\n",
    "cone_kf = KeyframeTrack(\"green_cone.position[y]\", [0, 1], [0.0, 10.0], Interpolation.InterpolateSmooth)\n",
    "box_kf = KeyframeTrack(\"box.position\", list(t / (2 * np.pi) * 3), list(pos.flatten()), Interpolation.InterpolateSmooth, value_type='vector')\n",
    "clip = AnimationClip(\"animation_cone\", -1, [cone_kf, box_kf])\n",
    "await vis.add_animation(clip)"
   ]
  },
  {
   "cell_type": "code",
   "execution_count": 74,
   "metadata": {},
   "outputs": [],
   "source": [
    "await vis.load_animation(clip.name)"
   ]
  },
  {
   "cell_type": "code",
   "execution_count": 89,
   "metadata": {},
   "outputs": [],
   "source": [
    "satellite = GLTF(name=\"satellite\", path='albedo-sat-simple.glb')\n",
    "await vis.add_object(satellite)"
   ]
  },
  {
   "cell_type": "code",
   "execution_count": 90,
   "metadata": {},
   "outputs": [],
   "source": [
    "await vis.add_child(\"scene\", \"satellite\")"
   ]
  },
  {
   "cell_type": "code",
   "execution_count": 87,
   "metadata": {},
   "outputs": [],
   "source": [
    "await vis.set_props(\"satellite\", {\"position\": [50 * 1.2, 0, 0]})"
   ]
  },
  {
   "cell_type": "code",
   "execution_count": 97,
   "metadata": {},
   "outputs": [],
   "source": [
    "await vis.camera_controls(\"controls\", target=[0, 0, 0], position=[200, 0, 0])"
   ]
  },
  {
   "cell_type": "code",
   "execution_count": 8,
   "metadata": {},
   "outputs": [],
   "source": [
    "vis.server.stop()"
   ]
  },
  {
   "cell_type": "code",
   "execution_count": null,
   "metadata": {},
   "outputs": [],
   "source": []
  }
 ],
 "metadata": {
  "kernelspec": {
   "display_name": ".venv",
   "language": "python",
   "name": "python3"
  },
  "language_info": {
   "codemirror_mode": {
    "name": "ipython",
    "version": 3
   },
   "file_extension": ".py",
   "mimetype": "text/x-python",
   "name": "python",
   "nbconvert_exporter": "python",
   "pygments_lexer": "ipython3",
   "version": "3.11.10"
  }
 },
 "nbformat": 4,
 "nbformat_minor": 2
}
